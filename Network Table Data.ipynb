{
 "cells": [
  {
   "cell_type": "code",
   "execution_count": 1,
   "metadata": {},
   "outputs": [],
   "source": [
    "import json\n",
    "import pandas as pd\n",
    "import networkx as nx\n",
    "from pandas.io.json import json_normalize\n",
    "from itertools import groupby, zip_longest"
   ]
  },
  {
   "cell_type": "code",
   "execution_count": null,
   "metadata": {},
   "outputs": [],
   "source": [
    "#Run this\n",
    "with open('data.txt') as json_file:\n",
    "    data = json.load(json_file)"
   ]
  },
  {
   "cell_type": "code",
   "execution_count": null,
   "metadata": {},
   "outputs": [],
   "source": [
    "def grouper(iterable, n, fillvalue=None):\n",
    "    \"Collect data into fixed-length chunks or blocks\"\n",
    "    # grouper('ABCDEFG', 3, 'x') --> ABC DEF Gxx\"\n",
    "    args = [iter(iterable)] * n\n",
    "    return zip_longest(*args, fillvalue=fillvalue)\n",
    "\n",
    "open('json_normalize.csv', 'w')\n",
    "\n",
    "dfs = []\n",
    "df =[]\n",
    "chunk_size = 200\n",
    "count_rows = 0\n",
    "\n",
    "for json in grouper(data,chunk_size):\n",
    "    df = json_normalize(json, record_path='references', meta = 'title')[['DOI', 'title']].dropna(subset = ['DOI'])\n",
    "    df.to_csv('json_normalize.csv', mode='a')\n",
    "    count_rows = count_rows + chunk_size\n",
    "    if count_rows%1000 == 0:\n",
    "        print(count_rows)\n",
    "    if count_rows == (51400):\n",
    "        chunk_size = 173"
   ]
  },
  {
   "cell_type": "code",
   "execution_count": 10,
   "metadata": {},
   "outputs": [],
   "source": [
    "df = open('json_normalize.csv', encoding=\"utf8\")"
   ]
  },
  {
   "cell_type": "code",
   "execution_count": 12,
   "metadata": {},
   "outputs": [],
   "source": [
    "df = pd.read_csv('json_normalize.csv')"
   ]
  },
  {
   "cell_type": "code",
   "execution_count": 16,
   "metadata": {},
   "outputs": [],
   "source": [
    "df['freq'] = df.groupby('DOI')['DOI'].transform('count')"
   ]
  },
  {
   "cell_type": "code",
   "execution_count": 19,
   "metadata": {},
   "outputs": [],
   "source": [
    "graph_df = df[df['freq']!=1]"
   ]
  },
  {
   "cell_type": "code",
   "execution_count": 28,
   "metadata": {
    "collapsed": true,
    "jupyter": {
     "outputs_hidden": true
    }
   },
   "outputs": [
    {
     "ename": "ValueError",
     "evalue": "No axis named True for object type <class 'pandas.core.frame.DataFrame'>",
     "output_type": "error",
     "traceback": [
      "\u001b[1;31m---------------------------------------------------------------------------\u001b[0m",
      "\u001b[1;31mValueError\u001b[0m                                Traceback (most recent call last)",
      "\u001b[1;32m<ipython-input-28-daf2dae01451>\u001b[0m in \u001b[0;36m<module>\u001b[1;34m\u001b[0m\n\u001b[0;32m      3\u001b[0m                            \u001b[0mleft_on\u001b[0m \u001b[1;33m=\u001b[0m \u001b[1;34m'DOI'\u001b[0m\u001b[1;33m,\u001b[0m\u001b[1;33m\u001b[0m\u001b[1;33m\u001b[0m\u001b[0m\n\u001b[0;32m      4\u001b[0m                            \u001b[0mright_on\u001b[0m \u001b[1;33m=\u001b[0m \u001b[1;34m'DOI'\u001b[0m\u001b[1;33m,\u001b[0m\u001b[1;33m\u001b[0m\u001b[1;33m\u001b[0m\u001b[0m\n\u001b[1;32m----> 5\u001b[1;33m                            how = 'left').loc(['title_x'] != ['title_y'])\n\u001b[0m",
      "\u001b[1;32mc:\\users\\j_m_g\\appdata\\local\\programs\\python\\python37-32\\lib\\site-packages\\pandas\\core\\indexing.py\u001b[0m in \u001b[0;36m__call__\u001b[1;34m(self, axis)\u001b[0m\n\u001b[0;32m    110\u001b[0m \u001b[1;33m\u001b[0m\u001b[0m\n\u001b[0;32m    111\u001b[0m         \u001b[1;32mif\u001b[0m \u001b[0maxis\u001b[0m \u001b[1;32mis\u001b[0m \u001b[1;32mnot\u001b[0m \u001b[1;32mNone\u001b[0m\u001b[1;33m:\u001b[0m\u001b[1;33m\u001b[0m\u001b[1;33m\u001b[0m\u001b[0m\n\u001b[1;32m--> 112\u001b[1;33m             \u001b[0maxis\u001b[0m \u001b[1;33m=\u001b[0m \u001b[0mself\u001b[0m\u001b[1;33m.\u001b[0m\u001b[0mobj\u001b[0m\u001b[1;33m.\u001b[0m\u001b[0m_get_axis_number\u001b[0m\u001b[1;33m(\u001b[0m\u001b[0maxis\u001b[0m\u001b[1;33m)\u001b[0m\u001b[1;33m\u001b[0m\u001b[1;33m\u001b[0m\u001b[0m\n\u001b[0m\u001b[0;32m    113\u001b[0m         \u001b[0mnew_self\u001b[0m\u001b[1;33m.\u001b[0m\u001b[0maxis\u001b[0m \u001b[1;33m=\u001b[0m \u001b[0maxis\u001b[0m\u001b[1;33m\u001b[0m\u001b[1;33m\u001b[0m\u001b[0m\n\u001b[0;32m    114\u001b[0m         \u001b[1;32mreturn\u001b[0m \u001b[0mnew_self\u001b[0m\u001b[1;33m\u001b[0m\u001b[1;33m\u001b[0m\u001b[0m\n",
      "\u001b[1;32mc:\\users\\j_m_g\\appdata\\local\\programs\\python\\python37-32\\lib\\site-packages\\pandas\\core\\generic.py\u001b[0m in \u001b[0;36m_get_axis_number\u001b[1;34m(cls, axis)\u001b[0m\n\u001b[0;32m    409\u001b[0m             \u001b[1;32mexcept\u001b[0m \u001b[0mKeyError\u001b[0m\u001b[1;33m:\u001b[0m\u001b[1;33m\u001b[0m\u001b[1;33m\u001b[0m\u001b[0m\n\u001b[0;32m    410\u001b[0m                 \u001b[1;32mpass\u001b[0m\u001b[1;33m\u001b[0m\u001b[1;33m\u001b[0m\u001b[0m\n\u001b[1;32m--> 411\u001b[1;33m         \u001b[1;32mraise\u001b[0m \u001b[0mValueError\u001b[0m\u001b[1;33m(\u001b[0m\u001b[1;34m\"No axis named {0} for object type {1}\"\u001b[0m\u001b[1;33m.\u001b[0m\u001b[0mformat\u001b[0m\u001b[1;33m(\u001b[0m\u001b[0maxis\u001b[0m\u001b[1;33m,\u001b[0m \u001b[0mcls\u001b[0m\u001b[1;33m)\u001b[0m\u001b[1;33m)\u001b[0m\u001b[1;33m\u001b[0m\u001b[1;33m\u001b[0m\u001b[0m\n\u001b[0m\u001b[0;32m    412\u001b[0m \u001b[1;33m\u001b[0m\u001b[0m\n\u001b[0;32m    413\u001b[0m     \u001b[1;33m@\u001b[0m\u001b[0mclassmethod\u001b[0m\u001b[1;33m\u001b[0m\u001b[1;33m\u001b[0m\u001b[0m\n",
      "\u001b[1;31mValueError\u001b[0m: No axis named True for object type <class 'pandas.core.frame.DataFrame'>"
     ]
    }
   ],
   "source": [
    "tmp_citation_network = pd.merge(graph_df[['title', 'DOI']],\n",
    "                           graph_df[['title', 'DOI']],\n",
    "                           left_on = 'DOI',\n",
    "                           right_on = 'DOI',\n",
    "                           how = 'left')"
   ]
  },
  {
   "cell_type": "code",
   "execution_count": 29,
   "metadata": {},
   "outputs": [],
   "source": [
    "citation_network = tmp_citation_network.loc[(tmp_citation_network['title_x'] != tmp_citation_network['title_y'])].groupby(['title_x', 'title_y']).size().to_frame('count').reset_index()"
   ]
  },
  {
   "cell_type": "code",
   "execution_count": 30,
   "metadata": {},
   "outputs": [],
   "source": [
    "citation_network.to_csv('citation_network_data.csv')"
   ]
  },
  {
   "cell_type": "code",
   "execution_count": 31,
   "metadata": {
    "collapsed": true,
    "jupyter": {
     "outputs_hidden": true
    }
   },
   "outputs": [
    {
     "data": {
      "text/html": [
       "<div>\n",
       "<style scoped>\n",
       "    .dataframe tbody tr th:only-of-type {\n",
       "        vertical-align: middle;\n",
       "    }\n",
       "\n",
       "    .dataframe tbody tr th {\n",
       "        vertical-align: top;\n",
       "    }\n",
       "\n",
       "    .dataframe thead th {\n",
       "        text-align: right;\n",
       "    }\n",
       "</style>\n",
       "<table border=\"1\" class=\"dataframe\">\n",
       "  <thead>\n",
       "    <tr style=\"text-align: right;\">\n",
       "      <th></th>\n",
       "      <th>title_x</th>\n",
       "      <th>title_y</th>\n",
       "      <th>count</th>\n",
       "    </tr>\n",
       "  </thead>\n",
       "  <tbody>\n",
       "    <tr>\n",
       "      <td>0</td>\n",
       "      <td>\"Could Be Raining\"</td>\n",
       "      <td>Misspecification in an Asymmetrically Dependen...</td>\n",
       "      <td>1</td>\n",
       "    </tr>\n",
       "    <tr>\n",
       "      <td>1</td>\n",
       "      <td>\"Democracy as Defeat\"</td>\n",
       "      <td>Don’t tell them I can type: negotiating women’...</td>\n",
       "      <td>1</td>\n",
       "    </tr>\n",
       "    <tr>\n",
       "      <td>2</td>\n",
       "      <td>\"Democracy as Defeat\"</td>\n",
       "      <td>Early Childhood Staff and Families' Perception...</td>\n",
       "      <td>1</td>\n",
       "    </tr>\n",
       "    <tr>\n",
       "      <td>3</td>\n",
       "      <td>\"Democracy as Defeat\"</td>\n",
       "      <td>Exploring the Nature of Third Places and Local...</td>\n",
       "      <td>1</td>\n",
       "    </tr>\n",
       "    <tr>\n",
       "      <td>4</td>\n",
       "      <td>\"Democracy as Defeat\"</td>\n",
       "      <td>Housing Tenure and Neighbourhood Social Capital</td>\n",
       "      <td>1</td>\n",
       "    </tr>\n",
       "    <tr>\n",
       "      <td>...</td>\n",
       "      <td>...</td>\n",
       "      <td>...</td>\n",
       "      <td>...</td>\n",
       "    </tr>\n",
       "    <tr>\n",
       "      <td>2322919</td>\n",
       "      <td>���Not stones but men���: Publics and pedagogy...</td>\n",
       "      <td>Recasting Participation in Drug Policy</td>\n",
       "      <td>1</td>\n",
       "    </tr>\n",
       "    <tr>\n",
       "      <td>2322920</td>\n",
       "      <td>���Not stones but men���: Publics and pedagogy...</td>\n",
       "      <td>The uses of academic knowledge: the university...</td>\n",
       "      <td>1</td>\n",
       "    </tr>\n",
       "    <tr>\n",
       "      <td>2322921</td>\n",
       "      <td>���Not stones but men���: Publics and pedagogy...</td>\n",
       "      <td>‘Frequent Sipping’: Bottled Water, the Will to...</td>\n",
       "      <td>1</td>\n",
       "    </tr>\n",
       "    <tr>\n",
       "      <td>2322922</td>\n",
       "      <td>���Not stones but men���: Publics and pedagogy...</td>\n",
       "      <td>‘Making space public’ through occupation: The ...</td>\n",
       "      <td>1</td>\n",
       "    </tr>\n",
       "    <tr>\n",
       "      <td>2322923</td>\n",
       "      <td>���Not stones but men���: Publics and pedagogy...</td>\n",
       "      <td>‘Party and Play’: Online hook-up devices and t...</td>\n",
       "      <td>1</td>\n",
       "    </tr>\n",
       "  </tbody>\n",
       "</table>\n",
       "<p>2322924 rows × 3 columns</p>\n",
       "</div>"
      ],
      "text/plain": [
       "                                                   title_x  \\\n",
       "0                                       \"Could Be Raining\"   \n",
       "1                                    \"Democracy as Defeat\"   \n",
       "2                                    \"Democracy as Defeat\"   \n",
       "3                                    \"Democracy as Defeat\"   \n",
       "4                                    \"Democracy as Defeat\"   \n",
       "...                                                    ...   \n",
       "2322919  ���Not stones but men���: Publics and pedagogy...   \n",
       "2322920  ���Not stones but men���: Publics and pedagogy...   \n",
       "2322921  ���Not stones but men���: Publics and pedagogy...   \n",
       "2322922  ���Not stones but men���: Publics and pedagogy...   \n",
       "2322923  ���Not stones but men���: Publics and pedagogy...   \n",
       "\n",
       "                                                   title_y  count  \n",
       "0        Misspecification in an Asymmetrically Dependen...      1  \n",
       "1        Don’t tell them I can type: negotiating women’...      1  \n",
       "2        Early Childhood Staff and Families' Perception...      1  \n",
       "3        Exploring the Nature of Third Places and Local...      1  \n",
       "4          Housing Tenure and Neighbourhood Social Capital      1  \n",
       "...                                                    ...    ...  \n",
       "2322919             Recasting Participation in Drug Policy      1  \n",
       "2322920  The uses of academic knowledge: the university...      1  \n",
       "2322921  ‘Frequent Sipping’: Bottled Water, the Will to...      1  \n",
       "2322922  ‘Making space public’ through occupation: The ...      1  \n",
       "2322923  ‘Party and Play’: Online hook-up devices and t...      1  \n",
       "\n",
       "[2322924 rows x 3 columns]"
      ]
     },
     "execution_count": 31,
     "metadata": {},
     "output_type": "execute_result"
    }
   ],
   "source": [
    "citation_network"
   ]
  }
 ],
 "metadata": {
  "kernelspec": {
   "display_name": "Python 3",
   "language": "python",
   "name": "python3"
  },
  "language_info": {
   "codemirror_mode": {
    "name": "ipython",
    "version": 3
   },
   "file_extension": ".py",
   "mimetype": "text/x-python",
   "name": "python",
   "nbconvert_exporter": "python",
   "pygments_lexer": "ipython3",
   "version": "3.7.4"
  }
 },
 "nbformat": 4,
 "nbformat_minor": 4
}
