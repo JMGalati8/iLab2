{
 "cells": [
  {
   "cell_type": "code",
   "execution_count": 1,
   "metadata": {},
   "outputs": [],
   "source": [
    "import requests\n",
    "import pandas as pd\n",
    "import json\n",
    "import time\n",
    "from sqlalchemy import engine, create_engine"
   ]
  },
  {
   "cell_type": "markdown",
   "metadata": {},
   "source": [
    "Below is the loop that will get the API data"
   ]
  },
  {
   "cell_type": "code",
   "execution_count": 31,
   "metadata": {
    "collapsed": true,
    "jupyter": {
     "outputs_hidden": true
    }
   },
   "outputs": [
    {
     "name": "stdout",
     "output_type": "stream",
     "text": [
      "1000\n",
      "2000\n",
      "3000\n",
      "4000\n",
      "5000\n",
      "6000\n",
      "7000\n",
      "8000\n",
      "9000\n",
      "10000\n",
      "11000\n",
      "12000\n",
      "13000\n",
      "14000\n",
      "15000\n",
      "16000\n",
      "17000\n",
      "18000\n",
      "19000\n",
      "20000\n",
      "21000\n",
      "22000\n",
      "23000\n",
      "24000\n",
      "25000\n",
      "26000\n",
      "27000\n",
      "28000\n",
      "29000\n",
      "30000\n",
      "31000\n",
      "32000\n",
      "33000\n",
      "34000\n",
      "35000\n",
      "36000\n",
      "37000\n",
      "38000\n",
      "39000\n",
      "40000\n",
      "41000\n",
      "42000\n",
      "43000\n",
      "44000\n",
      "45000\n",
      "46000\n",
      "47000\n",
      "48000\n",
      "49000\n",
      "50000\n",
      "51000\n",
      "51573\n"
     ]
    }
   ],
   "source": [
    "i = 0\n",
    "cursor = '*'\n",
    "API_String = 'https://api.crossref.org/works?query.affiliation=Sydney+UTS&filter=reference-visibility:open,has-references:true&mailto=J_M_Galati@hotmail.com&rows=1000&cursor='\n",
    "output = []\n",
    "dic = {}\n",
    "cursor_output = []\n",
    "API_output = {}\n",
    "cursor_continue = True\n",
    "\n",
    "while cursor_continue == True:\n",
    "    API_resp = requests.get(API_String + cursor.replace('+', '%2B')).json()\n",
    "    cursor = API_resp['message']['next-cursor']\n",
    "    for paper in API_resp['message']['items']:\n",
    "        paper_title = paper['title']\n",
    "        references = paper['reference']\n",
    "        try:\n",
    "            paper_authors = paper['author']\n",
    "        except Exception:\n",
    "            paper_authors = None\n",
    "        dic ={'title': paper_title, 'references': references, 'authors': paper_authors}\n",
    "        output.append(dic)\n",
    "        cursor_output.append(cursor)\n",
    "    print(len(output)) \n",
    "    if len(API_resp['message']['items']) < 1000:\n",
    "        cursor_continue = False\n",
    "    else:\n",
    "        cursor_continue = True\n",
    "        "
   ]
  },
  {
   "cell_type": "code",
   "execution_count": 33,
   "metadata": {},
   "outputs": [],
   "source": [
    "with open('data.txt', 'w') as my_data_file:\n",
    "    json.dump(output, my_data_file)"
   ]
  }
 ],
 "metadata": {
  "kernelspec": {
   "display_name": "Python 3",
   "language": "python",
   "name": "python3"
  },
  "language_info": {
   "codemirror_mode": {
    "name": "ipython",
    "version": 3
   },
   "file_extension": ".py",
   "mimetype": "text/x-python",
   "name": "python",
   "nbconvert_exporter": "python",
   "pygments_lexer": "ipython3",
   "version": "3.7.4"
  }
 },
 "nbformat": 4,
 "nbformat_minor": 4
}
